{
 "cells": [
  {
   "cell_type": "markdown",
   "id": "14a4886c-3c57-4a22-82b2-438948fa80d5",
   "metadata": {},
   "source": [
    "# 事前準備"
   ]
  },
  {
   "cell_type": "code",
   "execution_count": 104,
   "id": "6182081f-8118-4559-b366-d75cbfee1e14",
   "metadata": {},
   "outputs": [],
   "source": [
    "from keras.datasets import mnist\n",
    "(X_train, y_train), (X_test, y_test) = mnist.load_data()"
   ]
  },
  {
   "cell_type": "code",
   "execution_count": 105,
   "id": "c971b091-f157-47a4-be55-d525d734f44a",
   "metadata": {},
   "outputs": [
    {
     "name": "stdout",
     "output_type": "stream",
     "text": [
      "(60000, 28, 28)\n",
      "(10000, 28, 28)\n",
      "uint8\n",
      "[[  0   0   0   0   0   0   0   0   0   0   0   0   0   0   0   0   0   0\n",
      "    0   0   0   0   0   0   0   0   0   0]\n",
      " [  0   0   0   0   0   0   0   0   0   0   0   0   0   0   0   0   0   0\n",
      "    0   0   0   0   0   0   0   0   0   0]\n",
      " [  0   0   0   0   0   0   0   0   0   0   0   0   0   0   0   0   0   0\n",
      "    0   0   0   0   0   0   0   0   0   0]\n",
      " [  0   0   0   0   0   0   0   0   0   0   0   0   0   0   0   0   0   0\n",
      "    0   0   0   0   0   0   0   0   0   0]\n",
      " [  0   0   0   0   0   0   0   0   0   0   0   0   0   0   0   0   0   0\n",
      "    0   0   0   0   0   0   0   0   0   0]\n",
      " [  0   0   0   0   0   0   0   0   0   0   0   0   3  18  18  18 126 136\n",
      "  175  26 166 255 247 127   0   0   0   0]\n",
      " [  0   0   0   0   0   0   0   0  30  36  94 154 170 253 253 253 253 253\n",
      "  225 172 253 242 195  64   0   0   0   0]\n",
      " [  0   0   0   0   0   0   0  49 238 253 253 253 253 253 253 253 253 251\n",
      "   93  82  82  56  39   0   0   0   0   0]\n",
      " [  0   0   0   0   0   0   0  18 219 253 253 253 253 253 198 182 247 241\n",
      "    0   0   0   0   0   0   0   0   0   0]\n",
      " [  0   0   0   0   0   0   0   0  80 156 107 253 253 205  11   0  43 154\n",
      "    0   0   0   0   0   0   0   0   0   0]\n",
      " [  0   0   0   0   0   0   0   0   0  14   1 154 253  90   0   0   0   0\n",
      "    0   0   0   0   0   0   0   0   0   0]\n",
      " [  0   0   0   0   0   0   0   0   0   0   0 139 253 190   2   0   0   0\n",
      "    0   0   0   0   0   0   0   0   0   0]\n",
      " [  0   0   0   0   0   0   0   0   0   0   0  11 190 253  70   0   0   0\n",
      "    0   0   0   0   0   0   0   0   0   0]\n",
      " [  0   0   0   0   0   0   0   0   0   0   0   0  35 241 225 160 108   1\n",
      "    0   0   0   0   0   0   0   0   0   0]\n",
      " [  0   0   0   0   0   0   0   0   0   0   0   0   0  81 240 253 253 119\n",
      "   25   0   0   0   0   0   0   0   0   0]\n",
      " [  0   0   0   0   0   0   0   0   0   0   0   0   0   0  45 186 253 253\n",
      "  150  27   0   0   0   0   0   0   0   0]\n",
      " [  0   0   0   0   0   0   0   0   0   0   0   0   0   0   0  16  93 252\n",
      "  253 187   0   0   0   0   0   0   0   0]\n",
      " [  0   0   0   0   0   0   0   0   0   0   0   0   0   0   0   0   0 249\n",
      "  253 249  64   0   0   0   0   0   0   0]\n",
      " [  0   0   0   0   0   0   0   0   0   0   0   0   0   0  46 130 183 253\n",
      "  253 207   2   0   0   0   0   0   0   0]\n",
      " [  0   0   0   0   0   0   0   0   0   0   0   0  39 148 229 253 253 253\n",
      "  250 182   0   0   0   0   0   0   0   0]\n",
      " [  0   0   0   0   0   0   0   0   0   0  24 114 221 253 253 253 253 201\n",
      "   78   0   0   0   0   0   0   0   0   0]\n",
      " [  0   0   0   0   0   0   0   0  23  66 213 253 253 253 253 198  81   2\n",
      "    0   0   0   0   0   0   0   0   0   0]\n",
      " [  0   0   0   0   0   0  18 171 219 253 253 253 253 195  80   9   0   0\n",
      "    0   0   0   0   0   0   0   0   0   0]\n",
      " [  0   0   0   0  55 172 226 253 253 253 253 244 133  11   0   0   0   0\n",
      "    0   0   0   0   0   0   0   0   0   0]\n",
      " [  0   0   0   0 136 253 253 253 212 135 132  16   0   0   0   0   0   0\n",
      "    0   0   0   0   0   0   0   0   0   0]\n",
      " [  0   0   0   0   0   0   0   0   0   0   0   0   0   0   0   0   0   0\n",
      "    0   0   0   0   0   0   0   0   0   0]\n",
      " [  0   0   0   0   0   0   0   0   0   0   0   0   0   0   0   0   0   0\n",
      "    0   0   0   0   0   0   0   0   0   0]\n",
      " [  0   0   0   0   0   0   0   0   0   0   0   0   0   0   0   0   0   0\n",
      "    0   0   0   0   0   0   0   0   0   0]]\n"
     ]
    }
   ],
   "source": [
    "print(X_train.shape) # (60000, 28, 28)\n",
    "print(X_test.shape) # (10000, 28, 28)\n",
    "print(X_train[0].dtype) # uint8\n",
    "print(X_train[0])"
   ]
  },
  {
   "cell_type": "code",
   "execution_count": 106,
   "id": "39a65ac8-1b78-45d7-8e55-bba36ea97861",
   "metadata": {},
   "outputs": [],
   "source": [
    "X_train = X_train.reshape(-1, 784)\n",
    "X_test = X_test.reshape(-1, 784)"
   ]
  },
  {
   "cell_type": "code",
   "execution_count": 107,
   "id": "4abdddb7-fb11-4521-9e55-a44342a391d2",
   "metadata": {},
   "outputs": [
    {
     "data": {
      "text/plain": [
       "(60000, 784)"
      ]
     },
     "execution_count": 119,
     "metadata": {},
     "output_type": "execute_result"
    }
   ],
   "source": [
    "X_train.shape"
   ]
  },
  {
   "cell_type": "code",
   "execution_count": 108,
   "id": "30577679-2d43-45db-b07d-c5363230025e",
   "metadata": {},
   "outputs": [
    {
     "data": {
      "image/png": "[encoded data removed]",
      "text/plain": [
       "<Figure size 432x288 with 1 Axes>"
      ]
     },
     "metadata": {
      "needs_background": "light"
     },
     "output_type": "display_data"
    }
   ],
   "source": [
    "import matplotlib.pyplot as plt\n",
    "%matplotlib inline\n",
    "index = 0\n",
    "image = X_train[index].reshape(28,28)\n",
    "# X_train[index]: (784,)\n",
    "# image: (28, 28)\n",
    "plt.imshow(image, 'gray')\n",
    "plt.title('label : {}'.format(y_train[index]))\n",
    "plt.show()"
   ]
  },
  {
   "cell_type": "code",
   "execution_count": 109,
   "id": "dfe9a171-59ae-401b-a376-8a6be2472c51",
   "metadata": {},
   "outputs": [
    {
     "name": "stderr",
     "output_type": "stream",
     "text": [
      "<ipython-input-121-bf2d995247e6>:4: DeprecationWarning: `np.float` is a deprecated alias for the builtin `float`. To silence this warning, use `float` by itself. Doing this will not modify any behavior and is safe. If you specifically wanted the numpy scalar type, use `np.float64` here.\n",
      "Deprecated in NumPy 1.20; for more details and guidance: https://numpy.org/devdocs/release/1.20.0-notes.html#deprecations\n",
      "  image = image.astype(np.float) # float型に変換\n"
     ]
    },
    {
     "data": {
      "image/png": "[encoded data removed]",
      "text/plain": [
       "<Figure size 432x288 with 1 Axes>"
      ]
     },
     "metadata": {
      "needs_background": "light"
     },
     "output_type": "display_data"
    },
    {
     "name": "stdout",
     "output_type": "stream",
     "text": [
      "[[-105.35 -105.35 -105.35 -105.35 -105.35 -105.35 -105.35 -105.35 -105.35\n",
      "  -105.35 -105.35 -105.35 -105.35 -105.35 -105.35 -105.35 -105.35 -105.35\n",
      "  -105.35 -105.35 -105.35 -105.35 -105.35 -105.35 -105.35 -105.35 -105.35\n",
      "  -105.35]\n",
      " [-105.35 -105.35 -105.35 -105.35 -105.35 -105.35 -105.35 -105.35 -105.35\n",
      "  -105.35 -105.35 -105.35 -105.35 -105.35 -105.35 -105.35 -105.35 -105.35\n",
      "  -105.35 -105.35 -105.35 -105.35 -105.35 -105.35 -105.35 -105.35 -105.35\n",
      "  -105.35]\n",
      " [-105.35 -105.35 -105.35 -105.35 -105.35 -105.35 -105.35 -105.35 -105.35\n",
      "  -105.35 -105.35 -105.35 -105.35 -105.35 -105.35 -105.35 -105.35 -105.35\n",
      "  -105.35 -105.35 -105.35 -105.35 -105.35 -105.35 -105.35 -105.35 -105.35\n",
      "  -105.35]\n",
      " [-105.35 -105.35 -105.35 -105.35 -105.35 -105.35 -105.35 -105.35 -105.35\n",
      "  -105.35 -105.35 -105.35 -105.35 -105.35 -105.35 -105.35 -105.35 -105.35\n",
      "  -105.35 -105.35 -105.35 -105.35 -105.35 -105.35 -105.35 -105.35 -105.35\n",
      "  -105.35]\n",
      " [-105.35 -105.35 -105.35 -105.35 -105.35 -105.35 -105.35 -105.35 -105.35\n",
      "  -105.35 -105.35 -105.35 -105.35 -105.35 -105.35 -105.35 -105.35 -105.35\n",
      "  -105.35 -105.35 -105.35 -105.35 -105.35 -105.35 -105.35 -105.35 -105.35\n",
      "  -105.35]\n",
      " [-105.35 -105.35 -105.35 -105.35 -105.35 -105.35 -105.35 -105.35 -105.35\n",
      "  -105.35 -105.35 -105.35 -102.35  -87.35  -87.35  -87.35   20.65   30.65\n",
      "    69.65  -79.35   60.65  149.65  141.65   21.65 -105.35 -105.35 -105.35\n",
      "  -105.35]\n",
      " [-105.35 -105.35 -105.35 -105.35 -105.35 -105.35 -105.35 -105.35  -75.35\n",
      "   -69.35  -11.35   48.65   64.65  147.65  147.65  147.65  147.65  147.65\n",
      "   119.65   66.65  147.65  136.65   89.65  -41.35 -105.35 -105.35 -105.35\n",
      "  -105.35]\n",
      " [-105.35 -105.35 -105.35 -105.35 -105.35 -105.35 -105.35  -56.35  132.65\n",
      "   147.65  147.65  147.65  147.65  147.65  147.65  147.65  147.65  145.65\n",
      "   -12.35  -23.35  -23.35  -49.35  -66.35 -105.35 -105.35 -105.35 -105.35\n",
      "  -105.35]\n",
      " [-105.35 -105.35 -105.35 -105.35 -105.35 -105.35 -105.35  -87.35  113.65\n",
      "   147.65  147.65  147.65  147.65  147.65   92.65   76.65  141.65  135.65\n",
      "  -105.35 -105.35 -105.35 -105.35 -105.35 -105.35 -105.35 -105.35 -105.35\n",
      "  -105.35]\n",
      " [-105.35 -105.35 -105.35 -105.35 -105.35 -105.35 -105.35 -105.35  -25.35\n",
      "    50.65    1.65  147.65  147.65   99.65  -94.35 -105.35  -62.35   48.65\n",
      "  -105.35 -105.35 -105.35 -105.35 -105.35 -105.35 -105.35 -105.35 -105.35\n",
      "  -105.35]\n",
      " [-105.35 -105.35 -105.35 -105.35 -105.35 -105.35 -105.35 -105.35 -105.35\n",
      "   -91.35 -104.35   48.65  147.65  -15.35 -105.35 -105.35 -105.35 -105.35\n",
      "  -105.35 -105.35 -105.35 -105.35 -105.35 -105.35 -105.35 -105.35 -105.35\n",
      "  -105.35]\n",
      " [-105.35 -105.35 -105.35 -105.35 -105.35 -105.35 -105.35 -105.35 -105.35\n",
      "  -105.35 -105.35   33.65  147.65   84.65 -103.35 -105.35 -105.35 -105.35\n",
      "  -105.35 -105.35 -105.35 -105.35 -105.35 -105.35 -105.35 -105.35 -105.35\n",
      "  -105.35]\n",
      " [-105.35 -105.35 -105.35 -105.35 -105.35 -105.35 -105.35 -105.35 -105.35\n",
      "  -105.35 -105.35  -94.35   84.65  147.65  -35.35 -105.35 -105.35 -105.35\n",
      "  -105.35 -105.35 -105.35 -105.35 -105.35 -105.35 -105.35 -105.35 -105.35\n",
      "  -105.35]\n",
      " [-105.35 -105.35 -105.35 -105.35 -105.35 -105.35 -105.35 -105.35 -105.35\n",
      "  -105.35 -105.35 -105.35  -70.35  135.65  119.65   54.65    2.65 -104.35\n",
      "  -105.35 -105.35 -105.35 -105.35 -105.35 -105.35 -105.35 -105.35 -105.35\n",
      "  -105.35]\n",
      " [-105.35 -105.35 -105.35 -105.35 -105.35 -105.35 -105.35 -105.35 -105.35\n",
      "  -105.35 -105.35 -105.35 -105.35  -24.35  134.65  147.65  147.65   13.65\n",
      "   -80.35 -105.35 -105.35 -105.35 -105.35 -105.35 -105.35 -105.35 -105.35\n",
      "  -105.35]\n",
      " [-105.35 -105.35 -105.35 -105.35 -105.35 -105.35 -105.35 -105.35 -105.35\n",
      "  -105.35 -105.35 -105.35 -105.35 -105.35  -60.35   80.65  147.65  147.65\n",
      "    44.65  -78.35 -105.35 -105.35 -105.35 -105.35 -105.35 -105.35 -105.35\n",
      "  -105.35]\n",
      " [-105.35 -105.35 -105.35 -105.35 -105.35 -105.35 -105.35 -105.35 -105.35\n",
      "  -105.35 -105.35 -105.35 -105.35 -105.35 -105.35  -89.35  -12.35  146.65\n",
      "   147.65   81.65 -105.35 -105.35 -105.35 -105.35 -105.35 -105.35 -105.35\n",
      "  -105.35]\n",
      " [-105.35 -105.35 -105.35 -105.35 -105.35 -105.35 -105.35 -105.35 -105.35\n",
      "  -105.35 -105.35 -105.35 -105.35 -105.35 -105.35 -105.35 -105.35  143.65\n",
      "   147.65  143.65  -41.35 -105.35 -105.35 -105.35 -105.35 -105.35 -105.35\n",
      "  -105.35]\n",
      " [-105.35 -105.35 -105.35 -105.35 -105.35 -105.35 -105.35 -105.35 -105.35\n",
      "  -105.35 -105.35 -105.35 -105.35 -105.35  -59.35   24.65   77.65  147.65\n",
      "   147.65  101.65 -103.35 -105.35 -105.35 -105.35 -105.35 -105.35 -105.35\n",
      "  -105.35]\n",
      " [-105.35 -105.35 -105.35 -105.35 -105.35 -105.35 -105.35 -105.35 -105.35\n",
      "  -105.35 -105.35 -105.35  -66.35   42.65  123.65  147.65  147.65  147.65\n",
      "   144.65   76.65 -105.35 -105.35 -105.35 -105.35 -105.35 -105.35 -105.35\n",
      "  -105.35]\n",
      " [-105.35 -105.35 -105.35 -105.35 -105.35 -105.35 -105.35 -105.35 -105.35\n",
      "  -105.35  -81.35    8.65  115.65  147.65  147.65  147.65  147.65   95.65\n",
      "   -27.35 -105.35 -105.35 -105.35 -105.35 -105.35 -105.35 -105.35 -105.35\n",
      "  -105.35]\n",
      " [-105.35 -105.35 -105.35 -105.35 -105.35 -105.35 -105.35 -105.35  -82.35\n",
      "   -39.35  107.65  147.65  147.65  147.65  147.65   92.65  -24.35 -103.35\n",
      "  -105.35 -105.35 -105.35 -105.35 -105.35 -105.35 -105.35 -105.35 -105.35\n",
      "  -105.35]\n",
      " [-105.35 -105.35 -105.35 -105.35 -105.35 -105.35  -87.35   65.65  113.65\n",
      "   147.65  147.65  147.65  147.65   89.65  -25.35  -96.35 -105.35 -105.35\n",
      "  -105.35 -105.35 -105.35 -105.35 -105.35 -105.35 -105.35 -105.35 -105.35\n",
      "  -105.35]\n",
      " [-105.35 -105.35 -105.35 -105.35  -50.35   66.65  120.65  147.65  147.65\n",
      "   147.65  147.65  138.65   27.65  -94.35 -105.35 -105.35 -105.35 -105.35\n",
      "  -105.35 -105.35 -105.35 -105.35 -105.35 -105.35 -105.35 -105.35 -105.35\n",
      "  -105.35]\n",
      " [-105.35 -105.35 -105.35 -105.35   30.65  147.65  147.65  147.65  106.65\n",
      "    29.65   26.65  -89.35 -105.35 -105.35 -105.35 -105.35 -105.35 -105.35\n",
      "  -105.35 -105.35 -105.35 -105.35 -105.35 -105.35 -105.35 -105.35 -105.35\n",
      "  -105.35]\n",
      " [-105.35 -105.35 -105.35 -105.35 -105.35 -105.35 -105.35 -105.35 -105.35\n",
      "  -105.35 -105.35 -105.35 -105.35 -105.35 -105.35 -105.35 -105.35 -105.35\n",
      "  -105.35 -105.35 -105.35 -105.35 -105.35 -105.35 -105.35 -105.35 -105.35\n",
      "  -105.35]\n",
      " [-105.35 -105.35 -105.35 -105.35 -105.35 -105.35 -105.35 -105.35 -105.35\n",
      "  -105.35 -105.35 -105.35 -105.35 -105.35 -105.35 -105.35 -105.35 -105.35\n",
      "  -105.35 -105.35 -105.35 -105.35 -105.35 -105.35 -105.35 -105.35 -105.35\n",
      "  -105.35]\n",
      " [-105.35 -105.35 -105.35 -105.35 -105.35 -105.35 -105.35 -105.35 -105.35\n",
      "  -105.35 -105.35 -105.35 -105.35 -105.35 -105.35 -105.35 -105.35 -105.35\n",
      "  -105.35 -105.35 -105.35 -105.35 -105.35 -105.35 -105.35 -105.35 -105.35\n",
      "  -105.35]]\n"
     ]
    }
   ],
   "source": [
    "import numpy as np\n",
    "index = 0\n",
    "image = X_train[index].reshape(28,28)\n",
    "image = image.astype(np.float) # float型に変換\n",
    "image -= 105.35 # 意図的に負の小数値を作り出してみる\n",
    "plt.imshow(image, 'gray')\n",
    "plt.title('label : {}'.format(y_train[index]))\n",
    "plt.show()\n",
    "print(image) # 値を確認|"
   ]
  },
  {
   "cell_type": "code",
   "execution_count": 110,
   "id": "b78f390b-8c3f-405a-80f5-d5155881420d",
   "metadata": {},
   "outputs": [
    {
     "name": "stderr",
     "output_type": "stream",
     "text": [
      "<ipython-input-122-c6e824832d96>:1: DeprecationWarning: `np.float` is a deprecated alias for the builtin `float`. To silence this warning, use `float` by itself. Doing this will not modify any behavior and is safe. If you specifically wanted the numpy scalar type, use `np.float64` here.\n",
      "Deprecated in NumPy 1.20; for more details and guidance: https://numpy.org/devdocs/release/1.20.0-notes.html#deprecations\n",
      "  X_train = X_train.astype(np.float)\n",
      "<ipython-input-122-c6e824832d96>:2: DeprecationWarning: `np.float` is a deprecated alias for the builtin `float`. To silence this warning, use `float` by itself. Doing this will not modify any behavior and is safe. If you specifically wanted the numpy scalar type, use `np.float64` here.\n",
      "Deprecated in NumPy 1.20; for more details and guidance: https://numpy.org/devdocs/release/1.20.0-notes.html#deprecations\n",
      "  X_test = X_test.astype(np.float)\n"
     ]
    },
    {
     "name": "stdout",
     "output_type": "stream",
     "text": [
      "1.0\n",
      "0.0\n"
     ]
    }
   ],
   "source": [
    "X_train = X_train.astype(np.float)\n",
    "X_test = X_test.astype(np.float)\n",
    "X_train /= 255\n",
    "X_test /= 255\n",
    "print(X_train.max()) # 1.0\n",
    "print(X_train.min()) # 0.0"
   ]
  },
  {
   "cell_type": "code",
   "execution_count": 111,
   "id": "c24aa5ad-8b60-4b06-bbb0-d7726c8400cc",
   "metadata": {},
   "outputs": [
    {
     "name": "stdout",
     "output_type": "stream",
     "text": [
      "(60000,)\n",
      "(60000, 10)\n",
      "float64\n"
     ]
    }
   ],
   "source": [
    "from sklearn.preprocessing import OneHotEncoder\n",
    "enc = OneHotEncoder(handle_unknown='ignore', sparse=False)\n",
    "y_train_one_hot = enc.fit_transform(y_train[:, np.newaxis])\n",
    "y_test_one_hot = enc.transform(y_test[:, np.newaxis])\n",
    "print(y_train.shape) # (60000,)\n",
    "print(y_train_one_hot.shape) # (60000, 10)\n",
    "print(y_train_one_hot.dtype) # float64"
   ]
  },
  {
   "cell_type": "code",
   "execution_count": 112,
   "id": "d3e5351f-aa5d-422a-85d1-60b66fa37d2a",
   "metadata": {},
   "outputs": [
    {
     "data": {
      "text/plain": [
       "array([[0., 0., 0., ..., 0., 0., 0.],\n",
       "       [1., 0., 0., ..., 0., 0., 0.],\n",
       "       [0., 0., 0., ..., 0., 0., 0.],\n",
       "       ...,\n",
       "       [0., 0., 0., ..., 0., 0., 0.],\n",
       "       [0., 0., 0., ..., 0., 0., 0.],\n",
       "       [0., 0., 0., ..., 0., 1., 0.]])"
      ]
     },
     "execution_count": 124,
     "metadata": {},
     "output_type": "execute_result"
    }
   ],
   "source": [
    "y_train_one_hot"
   ]
  },
  {
   "cell_type": "code",
   "execution_count": 103,
   "id": "b189f252-4460-41dd-b851-ff7fbd67c99f",
   "metadata": {},
   "outputs": [
    {
     "name": "stdout",
     "output_type": "stream",
     "text": [
      "(48000, 784)\n",
      "(12000, 784)\n"
     ]
    }
   ],
   "source": [
    "from sklearn.model_selection import train_test_split\n",
    "X_train, X_val, y_train_one_hot, y_val_one_hot = train_test_split(X_train, y_train_one_hot, test_size=0.2, random_state=0)\n",
    "print(X_train.shape) # (48000, 784)\n",
    "print(X_val.shape) # (12000, 784)"
   ]
  },
  {
   "cell_type": "code",
   "execution_count": 11,
   "id": "b0afa0cf-9ad6-4711-8910-ee0a8f5b187b",
   "metadata": {},
   "outputs": [
    {
     "data": {
      "text/plain": [
       "(48000, 10)"
      ]
     },
     "execution_count": 126,
     "metadata": {},
     "output_type": "execute_result"
    }
   ],
   "source": [
    "y_train_one_hot.shape"
   ]
  },
  {
   "cell_type": "code",
   "execution_count": null,
   "id": "1b752b48-83eb-4986-a7c3-e3d2d03559d0",
   "metadata": {},
   "outputs": [],
   "source": [
    "X_train, X_val, y_train_one_hot, y_val_one_hot = train_test_split(X_train, y_train_one_hot, test_size=0.2)"
   ]
  },
  {
   "cell_type": "markdown",
   "id": "89bdd2c4-5ba4-4c00-b199-72b26d19d12a",
   "metadata": {},
   "source": [
    "## ミニバッチ加工"
   ]
  },
  {
   "cell_type": "code",
   "execution_count": 12,
   "id": "88f01b1a-6f20-430b-8f51-33de04beac2f",
   "metadata": {},
   "outputs": [],
   "source": [
    "class GetMiniBatch:\n",
    "    \"\"\"\n",
    "    ミニバッチを取得するイテレータ\n",
    "    Parameters\n",
    "    ----------\n",
    "    X : 次の形のndarray, shape (n_samples, n_features)\n",
    "      訓練データ\n",
    "    y : 次の形のndarray, shape (n_samples, 1)\n",
    "      正解値\n",
    "    batch_size : int\n",
    "      バッチサイズ\n",
    "    seed : int\n",
    "      NumPyの乱数のシード\n",
    "    \"\"\"\n",
    "    def __init__(self, X, y, batch_size = 20, seed=0):\n",
    "        self.batch_size = batch_size\n",
    "        np.random.seed(seed)\n",
    "        shuffle_index = np.random.permutation(np.arange(X.shape[0]))\n",
    "        self._X = X[shuffle_index]\n",
    "        self._y = y[shuffle_index]\n",
    "        # ceilは切り上げ関数\n",
    "        self._stop = np.ceil(X.shape[0]/self.batch_size).astype(int)\n",
    "    \n",
    "    # len関数が使われるとこの値を返す。\n",
    "    def __len__(self):\n",
    "        return self._stop\n",
    "    \n",
    "    # 要素をインスタンス変数に入れると値を返す\n",
    "    def __getitem__(self,item):\n",
    "        p0 = item*self.batch_size\n",
    "        p1 = item*self.batch_size + self.batch_size\n",
    "        return self._X[p0:p1], self._y[p0:p1]\n",
    "    \n",
    "    # iterが使われるとこの値を返す、なんでselfそのものを返す？？\n",
    "    # そういう物っぽい、nextと組み合わせて使われる\n",
    "    # for分繰り返されるという訳ではなく、forを行う前に一度だけ実行される\n",
    "    def __iter__(self):\n",
    "        self._counter = 0\n",
    "        return self\n",
    "    \n",
    "    # forの回数実行される\n",
    "    def __next__(self):\n",
    "        # 要素の終わりまでいったら自動的に終了する\n",
    "        if self._counter >= self._stop:\n",
    "            raise StopIteration()\n",
    "        p0 = self._counter*self.batch_size\n",
    "        p1 = self._counter*self.batch_size + self.batch_size\n",
    "        self._counter += 1\n",
    "        return self._X[p0:p1], self._y[p0:p1]"
   ]
  },
  {
   "cell_type": "code",
   "execution_count": 13,
   "id": "d8de2cbf-145b-4afe-939f-ef15e33b3267",
   "metadata": {},
   "outputs": [
    {
     "name": "stdout",
     "output_type": "stream",
     "text": [
      "2400\n",
      "(array([[0., 0., 0., ..., 0., 0., 0.],\n",
      "       [0., 0., 0., ..., 0., 0., 0.],\n",
      "       [0., 0., 0., ..., 0., 0., 0.],\n",
      "       ...,\n",
      "       [0., 0., 0., ..., 0., 0., 0.],\n",
      "       [0., 0., 0., ..., 0., 0., 0.],\n",
      "       [0., 0., 0., ..., 0., 0., 0.]]), array([[0., 0., 0., 0., 0., 0., 1., 0., 0., 0.],\n",
      "       [0., 0., 0., 0., 1., 0., 0., 0., 0., 0.],\n",
      "       [0., 0., 0., 0., 0., 0., 0., 0., 1., 0.],\n",
      "       [0., 0., 0., 0., 0., 0., 0., 1., 0., 0.],\n",
      "       [0., 0., 0., 0., 1., 0., 0., 0., 0., 0.],\n",
      "       [0., 0., 0., 0., 1., 0., 0., 0., 0., 0.],\n",
      "       [0., 0., 0., 0., 0., 0., 0., 0., 1., 0.],\n",
      "       [0., 0., 0., 0., 0., 0., 0., 0., 1., 0.],\n",
      "       [0., 0., 0., 0., 1., 0., 0., 0., 0., 0.],\n",
      "       [0., 0., 0., 1., 0., 0., 0., 0., 0., 0.],\n",
      "       [1., 0., 0., 0., 0., 0., 0., 0., 0., 0.],\n",
      "       [0., 0., 0., 0., 0., 0., 0., 1., 0., 0.],\n",
      "       [0., 0., 0., 0., 0., 0., 1., 0., 0., 0.],\n",
      "       [0., 0., 0., 0., 0., 0., 0., 1., 0., 0.],\n",
      "       [0., 0., 0., 0., 0., 0., 0., 0., 1., 0.],\n",
      "       [0., 0., 0., 0., 0., 0., 1., 0., 0., 0.],\n",
      "       [0., 0., 1., 0., 0., 0., 0., 0., 0., 0.],\n",
      "       [1., 0., 0., 0., 0., 0., 0., 0., 0., 0.],\n",
      "       [0., 0., 0., 1., 0., 0., 0., 0., 0., 0.],\n",
      "       [0., 0., 0., 0., 1., 0., 0., 0., 0., 0.]]))\n"
     ]
    }
   ],
   "source": [
    "get_mini_batch = GetMiniBatch(X_train, y_train_one_hot, batch_size=20)\n",
    "print(len(get_mini_batch)) # 2400\n",
    "print(get_mini_batch[5]) # 5番目のミニバッチが取得できる"
   ]
  },
  {
   "cell_type": "code",
   "execution_count": 14,
   "id": "e35d6417-ef3e-4a24-9815-eae21fef5ef9",
   "metadata": {},
   "outputs": [
    {
     "data": {
      "text/plain": [
       "(20, 784)"
      ]
     },
     "execution_count": 14,
     "metadata": {},
     "output_type": "execute_result"
    }
   ],
   "source": [
    "get_mini_batch[5][0].shape"
   ]
  },
  {
   "cell_type": "code",
   "execution_count": 15,
   "id": "78b8e674-7c8a-4b20-8eeb-39d4f80787ef",
   "metadata": {},
   "outputs": [
    {
     "data": {
      "text/plain": [
       "(20, 10)"
      ]
     },
     "execution_count": 15,
     "metadata": {},
     "output_type": "execute_result"
    }
   ],
   "source": [
    "get_mini_batch[5][1].shape"
   ]
  },
  {
   "cell_type": "markdown",
   "id": "ada454cb-2919-473a-aaec-7de3af229415",
   "metadata": {},
   "source": [
    "# 【問題1】重みの初期値を決めるコードの作成\n",
    "ニューラルネットワークの各層の重みの初期値を決めるコードを作成してください。\n",
    "\n",
    "\n",
    "重みの初期値はさまざまな方法が提案されていますが、今回はガウス分布による単純な初期化を行います。バイアスに関しても同様です。\n",
    "\n",
    "\n",
    "以下のコードを参考にしてください。標準偏差の値sigmaはハイパーパラメータです。発展的な重みの初期化方法については次のSprintで扱います。"
   ]
  },
  {
   "cell_type": "code",
   "execution_count": 16,
   "id": "10524601-09b9-4638-b268-044f582372b9",
   "metadata": {},
   "outputs": [],
   "source": [
    "n_features = 784\n",
    "n_nodes1 = 400\n",
    "n_nodes2 = 200\n",
    "n_output = 10\n",
    "n_b = 20\n",
    "\n",
    "# ガウス分布の標準偏差\n",
    "sigma = 0.01\n",
    "\n",
    "W1 = sigma * np.random.randn(n_features, n_nodes1)\n",
    "W2 = sigma * np.random.randn(n_nodes1, n_nodes2)\n",
    "W3 = sigma * np.random.randn(n_nodes2, n_output)\n",
    "\n",
    "# W1.shape: (784, 400)\n",
    "# W2.shape: (400, 200)\n",
    "# W3.shape: (200, 10)"
   ]
  },
  {
   "cell_type": "code",
   "execution_count": 17,
   "id": "8480323a-c7dd-4188-b062-9ddb0430ceb3",
   "metadata": {},
   "outputs": [
    {
     "data": {
      "text/plain": [
       "6.165740437616107e-06"
      ]
     },
     "execution_count": 17,
     "metadata": {},
     "output_type": "execute_result"
    }
   ],
   "source": [
    "W1.mean()"
   ]
  },
  {
   "cell_type": "markdown",
   "id": "46c415cb-598f-456e-9a6e-7a2aca4875c6",
   "metadata": {},
   "source": [
    "## 【問題2】フォワードプロパゲーションの実装\n",
    "三層のニューラルネットワークの フォワードプロパゲーション を作成してください。以下の説明ではノード数は1層目は400、2層目は200としますが、変更しても構いません。\n",
    "\n",
    "\n",
    "各層の数式を以下に示します。今回はそれぞれの記号が表す配列が、実装上どのようなndarrayのshapeになるかを併記してあります。"
   ]
  },
  {
   "cell_type": "code",
   "execution_count": 18,
   "id": "b943903b-0113-42c5-b513-957bba4b23d5",
   "metadata": {},
   "outputs": [
    {
     "data": {
      "text/plain": [
       "(20, 10)"
      ]
     },
     "execution_count": 18,
     "metadata": {},
     "output_type": "execute_result"
    }
   ],
   "source": [
    "# バイアス(適当)\n",
    "b1 = 1\n",
    "b2 = 1\n",
    "b3 = 1\n",
    "\n",
    "#クラス出力\n",
    "n_outputs = 10\n",
    "\n",
    "# 正解ラベル\n",
    "y1 = get_mini_batch[0][1]\n",
    "y1.shape"
   ]
  },
  {
   "cell_type": "code",
   "execution_count": 19,
   "id": "c336a2e5-c60e-4688-b918-23a25274af58",
   "metadata": {},
   "outputs": [
    {
     "data": {
      "text/plain": [
       "(20, 784)"
      ]
     },
     "execution_count": 19,
     "metadata": {},
     "output_type": "execute_result"
    }
   ],
   "source": [
    "# 今回のミニバッチ\n",
    "X1 = get_mini_batch[0][0]\n",
    "X1.shape"
   ]
  },
  {
   "cell_type": "code",
   "execution_count": 20,
   "id": "25249398-ec0d-4400-8e88-e14ee65ac2e1",
   "metadata": {},
   "outputs": [],
   "source": [
    "# # for mini_X_train, mini_y_train in get_mini_batch:\n",
    "#     display(mini_X_train.shape)\n",
    "#     display(mini_y_train.shape)"
   ]
  },
  {
   "cell_type": "code",
   "execution_count": 21,
   "id": "7384f5ae-abdd-46b3-b09c-d909dfc8302e",
   "metadata": {},
   "outputs": [],
   "source": [
    "def sigmoid(X):\n",
    "    return 1 / (1 + np.exp(-X))"
   ]
  },
  {
   "cell_type": "code",
   "execution_count": 22,
   "id": "788449e3-c229-410a-b37d-934090b1988e",
   "metadata": {},
   "outputs": [],
   "source": [
    "def tanh(X):\n",
    "    return np.tanh(X)"
   ]
  },
  {
   "cell_type": "code",
   "execution_count": 23,
   "id": "5b998abe-6d2f-4ef6-8b1f-e63f814c7706",
   "metadata": {},
   "outputs": [],
   "source": [
    "def softmax(X):\n",
    "    return np.exp(X) / np.exp(X).sum(axis=1).reshape(-1, 1)"
   ]
  },
  {
   "cell_type": "markdown",
   "id": "1224dae0-b6dd-4a31-aa50-ae4752e96f69",
   "metadata": {},
   "source": [
    "## 1層目\n",
    "$$A_1 = X \\cdot W_1 + B_1$$"
   ]
  },
  {
   "cell_type": "code",
   "execution_count": 24,
   "id": "0f4405af-7e51-4b8e-9d60-39b745a5beb1",
   "metadata": {},
   "outputs": [],
   "source": [
    "b1 = np.zeros(n_nodes1)"
   ]
  },
  {
   "cell_type": "code",
   "execution_count": 25,
   "id": "13206e12-3ec6-4e0e-a5e7-e4a65d7f799c",
   "metadata": {},
   "outputs": [
    {
     "data": {
      "text/plain": [
       "(20, 400)"
      ]
     },
     "execution_count": 25,
     "metadata": {},
     "output_type": "execute_result"
    }
   ],
   "source": [
    "# 計算\n",
    "A1 = X1 @ W1 + b1\n",
    "A1.shape"
   ]
  },
  {
   "cell_type": "markdown",
   "id": "b4275720-616a-4778-ad7b-f255a0b2711a",
   "metadata": {},
   "source": [
    "$$Z_1 = f(A_1)$$"
   ]
  },
  {
   "cell_type": "code",
   "execution_count": 26,
   "id": "15823277-2417-4fb8-ab7e-d1315f338c61",
   "metadata": {},
   "outputs": [
    {
     "data": {
      "text/plain": [
       "(20, 400)"
      ]
     },
     "execution_count": 26,
     "metadata": {},
     "output_type": "execute_result"
    }
   ],
   "source": [
    "# 活性化関数\n",
    "Z1 = sigmoid(A1)\n",
    "Z1.shape"
   ]
  },
  {
   "cell_type": "markdown",
   "id": "f5a31905-0c4e-4881-a76e-0d9aa2cb0f4e",
   "metadata": {},
   "source": [
    "## 2層目\n",
    "$$A_2 = Z_1 \\cdot W_2 + B_2$$"
   ]
  },
  {
   "cell_type": "code",
   "execution_count": 27,
   "id": "e2426b2e-bac3-408c-ac4d-cda8e52cdbb8",
   "metadata": {},
   "outputs": [
    {
     "data": {
      "text/plain": [
       "(20, 200)"
      ]
     },
     "execution_count": 27,
     "metadata": {},
     "output_type": "execute_result"
    }
   ],
   "source": [
    "A2 = Z1 @ W2 + b2\n",
    "A2.shape"
   ]
  },
  {
   "cell_type": "markdown",
   "id": "f7d9a9b3-587f-4284-baab-0067ec955ab3",
   "metadata": {},
   "source": [
    "$$Z_2 = f(A_2)$$"
   ]
  },
  {
   "cell_type": "code",
   "execution_count": 28,
   "id": "9586c328-5a0b-4010-b684-4dcff8f08172",
   "metadata": {},
   "outputs": [
    {
     "data": {
      "text/plain": [
       "(20, 200)"
      ]
     },
     "execution_count": 28,
     "metadata": {},
     "output_type": "execute_result"
    }
   ],
   "source": [
    "Z2 = sigmoid(A2)\n",
    "Z2.shape"
   ]
  },
  {
   "cell_type": "markdown",
   "id": "eef5f87b-352a-41cc-a100-ee892e05dd6d",
   "metadata": {},
   "source": [
    "## 3層目\n",
    "$$A_3 = Z_2 \\cdot W_3 + B_3$$"
   ]
  },
  {
   "cell_type": "code",
   "execution_count": 29,
   "id": "52f013bf-8474-42fd-900b-38a89e91cb24",
   "metadata": {},
   "outputs": [
    {
     "data": {
      "text/plain": [
       "(20, 10)"
      ]
     },
     "execution_count": 29,
     "metadata": {},
     "output_type": "execute_result"
    }
   ],
   "source": [
    "A3 = Z2 @ W3 + b3\n",
    "A3.shape"
   ]
  },
  {
   "cell_type": "markdown",
   "id": "18ab50f6-1763-4842-9d75-405ad3854603",
   "metadata": {},
   "source": [
    "$$Z_3 = softmax(A_3)$$"
   ]
  },
  {
   "cell_type": "code",
   "execution_count": 30,
   "id": "0387470c-814a-4c15-b3f4-7726b5bfe782",
   "metadata": {},
   "outputs": [
    {
     "data": {
      "text/plain": [
       "array([0.09515232, 0.09119238, 0.09701054, 0.10726403, 0.09859948,\n",
       "       0.10485162, 0.11284995, 0.09709807, 0.10644279, 0.08953881])"
      ]
     },
     "metadata": {},
     "output_type": "display_data"
    },
    {
     "data": {
      "text/plain": [
       "(20, 10)"
      ]
     },
     "execution_count": 30,
     "metadata": {},
     "output_type": "execute_result"
    }
   ],
   "source": [
    "Z3 = softmax(A3)\n",
    "display(Z3[0])\n",
    "Z3.shape"
   ]
  },
  {
   "cell_type": "markdown",
   "id": "60115419-ec49-484d-99a2-34ff049ac82f",
   "metadata": {},
   "source": [
    "# 【問題3】交差エントロピー誤差の実装\n",
    "目的関数（損失関数）を作成します。\n",
    "\n",
    "\n",
    "多クラス分類の目的関数である交差エントロピー誤差 $L$ は次の数式です。\n",
    "\n",
    "$$L = - \\frac{1}{n_b}\\sum_{j}^{n_b}\\sum_{k}^{n_c}y_{jk} log(z_{3\\_jk})$$\n",
    "\n",
    "$y_{ij}$ : $j$ 番目のサンプルの $k$ 番目のクラスの正解ラベル（one-hot表現で0か1のスカラー）\n",
    "\n",
    "\n",
    "$z_{3_ij}$ : $j$ 番目のサンプルの $k$ 番目のクラスの確率（スカラー）\n",
    "\n",
    "\n",
    "$n_{b}$ : バッチサイズ、batch_size\n",
    "\n",
    "\n",
    "$n_{c}$ : クラスの数、n_output（今回のMNISTでは10）\n",
    "\n",
    "\n",
    "サンプル1つあたりの誤差が求まります。\n",
    "\n",
    "\n",
    "実数におけるlog(x)の定義域は0 < xです。したがって、logの中身がとても小さい値になってしまったときエラーを起こします。そこでlogの中に1e-7を足すことでエラーを回避できます。\n",
    "\n",
    "\n",
    "こういった処理はlogに限らず、さまざまな場所で出てくることがあります。"
   ]
  },
  {
   "cell_type": "code",
   "execution_count": 31,
   "id": "41a3674d-1096-48ec-aa26-74395520b095",
   "metadata": {},
   "outputs": [
    {
     "data": {
      "text/plain": [
       "array([[0., 0., 0., 0., 0., 0., 0., 0., 0., 1.],\n",
       "       [0., 0., 0., 0., 0., 0., 0., 1., 0., 0.],\n",
       "       [0., 0., 0., 0., 0., 0., 0., 1., 0., 0.],\n",
       "       [0., 0., 0., 0., 0., 0., 0., 1., 0., 0.],\n",
       "       [0., 0., 0., 0., 0., 0., 0., 0., 1., 0.],\n",
       "       [0., 0., 0., 0., 1., 0., 0., 0., 0., 0.],\n",
       "       [0., 0., 0., 1., 0., 0., 0., 0., 0., 0.],\n",
       "       [0., 1., 0., 0., 0., 0., 0., 0., 0., 0.],\n",
       "       [0., 1., 0., 0., 0., 0., 0., 0., 0., 0.],\n",
       "       [0., 0., 0., 0., 1., 0., 0., 0., 0., 0.],\n",
       "       [0., 0., 0., 1., 0., 0., 0., 0., 0., 0.],\n",
       "       [0., 1., 0., 0., 0., 0., 0., 0., 0., 0.],\n",
       "       [0., 0., 0., 1., 0., 0., 0., 0., 0., 0.],\n",
       "       [0., 0., 0., 0., 0., 0., 0., 1., 0., 0.],\n",
       "       [0., 0., 0., 1., 0., 0., 0., 0., 0., 0.],\n",
       "       [0., 0., 0., 0., 0., 0., 0., 0., 1., 0.],\n",
       "       [0., 0., 0., 0., 0., 0., 0., 1., 0., 0.],\n",
       "       [0., 0., 0., 0., 0., 0., 0., 1., 0., 0.],\n",
       "       [0., 0., 0., 0., 0., 0., 0., 0., 1., 0.],\n",
       "       [0., 0., 0., 0., 0., 0., 1., 0., 0., 0.]])"
      ]
     },
     "execution_count": 31,
     "metadata": {},
     "output_type": "execute_result"
    }
   ],
   "source": [
    "y1"
   ]
  },
  {
   "cell_type": "code",
   "execution_count": 32,
   "id": "9bca0d53-58d7-4763-bc46-c127417dfd44",
   "metadata": {},
   "outputs": [
    {
     "data": {
      "text/plain": [
       "(20, 10)"
      ]
     },
     "execution_count": 32,
     "metadata": {},
     "output_type": "execute_result"
    }
   ],
   "source": [
    "Z3.shape"
   ]
  },
  {
   "cell_type": "code",
   "execution_count": 33,
   "id": "d8f611cc-9875-4199-95f9-a9f804810440",
   "metadata": {},
   "outputs": [
    {
     "data": {
      "text/plain": [
       "array([   0.        ,  -69.15384926,    0.        ,  -92.20513801,\n",
       "        -46.10257071,    0.        ,  -23.05127184, -138.30773441,\n",
       "        -69.15379113,  -23.05130675])"
      ]
     },
     "execution_count": 33,
     "metadata": {},
     "output_type": "execute_result"
    }
   ],
   "source": [
    "h = 1e-7\n",
    "sigma1 = (y1.T @ np.log(Z3 + h)).sum(axis=1)\n",
    "# y = 20,10\n",
    "# Z3 = 20,10\n",
    "# (y1.T @ np.log(Z3 + h)) = 10, 10\n",
    "sigma1"
   ]
  },
  {
   "cell_type": "code",
   "execution_count": 34,
   "id": "2dec30e7-e430-4cd8-bc13-b2e9279df8a5",
   "metadata": {},
   "outputs": [
    {
     "data": {
      "text/plain": [
       "-461.02566210446275"
      ]
     },
     "execution_count": 34,
     "metadata": {},
     "output_type": "execute_result"
    }
   ],
   "source": [
    "sigma2 = sigma1.sum(axis=0)\n",
    "# j方向に合計\n",
    "# pythonだと勝手に次元を下げるので、azis=0になる。二次元であれば横方向\n",
    "sigma2"
   ]
  },
  {
   "cell_type": "code",
   "execution_count": 35,
   "id": "a6fd6b07-6f77-42fc-9558-681a728c7431",
   "metadata": {},
   "outputs": [
    {
     "data": {
      "text/plain": [
       "23.05128310522314"
      ]
     },
     "execution_count": 35,
     "metadata": {},
     "output_type": "execute_result"
    }
   ],
   "source": [
    "L = -1 / X1.shape[0] * sigma2\n",
    "# log(Z3)が最大値0の値を取るため-をかける必要がある。\n",
    "# 全て正解の場合0を取る。\n",
    "L"
   ]
  },
  {
   "cell_type": "code",
   "execution_count": 36,
   "id": "35687937-a453-4b3c-9b77-7881ce1ecdca",
   "metadata": {},
   "outputs": [],
   "source": [
    "def loss(X, y_ture):\n",
    "    \"\"\"\n",
    "    クロスエントロピー誤差を計算\n",
    "    log(X)が最大値0の値を取るため-をかける必要がある。\n",
    "    全て正解の場合0を取る。\n",
    "    \n",
    "    param\n",
    "    -------------------\n",
    "    X : 次の形のndarray(batch_size, n_features)\n",
    "    入力値\n",
    "    y_ture : 次の形のndarray(batch_size, n_class)\n",
    "    正解ラベル\n",
    "    \n",
    "    return\n",
    "    --------------------\n",
    "    L : float(スカラー)\n",
    "    \"\"\"\n",
    "    \n",
    "    h = 1e-7\n",
    "    \n",
    "    sigma1 = (y_ture.T @ np.log(X + h)).sum(axis=1)\n",
    "    # y_ture = 20,10\n",
    "    # X = 20,10\n",
    "    # (y_ture.T @ np.log(X + h)) = 10, 10\n",
    "    \n",
    "    sigma2 = sigma1.sum(axis=0)\n",
    "    # j方向に合計\n",
    "    # pythonだと勝手に次元を下げるので、azis=0になる。二次元であれば横方向\n",
    "    \n",
    "    L = -1 / X.shape[0] * sigma2\n",
    "    return L"
   ]
  },
  {
   "cell_type": "code",
   "execution_count": 37,
   "id": "5240efb5-6016-423e-8a06-cbce16015f3f",
   "metadata": {},
   "outputs": [
    {
     "data": {
      "text/plain": [
       "True"
      ]
     },
     "execution_count": 37,
     "metadata": {},
     "output_type": "execute_result"
    }
   ],
   "source": [
    "loss(Z3, y1) == L"
   ]
  },
  {
   "cell_type": "markdown",
   "id": "c1ba43c8-68f1-42d6-b0c7-ee8d8ce22115",
   "metadata": {},
   "source": [
    "# 【問題4】バックプロパゲーションの実装\n",
    "三層のニューラルネットワークのバックプロパゲーションを作成してください。確率的勾配降下法を行う部分です。\n",
    "\n",
    "\n",
    "数式を以下に示します。\n",
    "\n",
    "$$W_i^{\\prime} = W_i - \\alpha \\frac{\\partial L}{\\partial W_i} \\\\\n",
    "B_i^{\\prime} = B_i - \\alpha \\frac{\\partial L}{\\partial B_i}$$\n",
    "\n",
    "まず、i層目の重みとバイアスの更新式です。 $W_i$ と $B_i$ に対し、更新後の $W_i^{\\prime}$ と $B_i^{\\prime}$ は次の数式で求められます。\n",
    "\n",
    "\n",
    "$\\alpha$ : 学習率（層ごとに変えることも可能だが、基本的にはすべて同じとする）\n",
    "\n",
    "\n",
    "$\\frac{\\partial L}{\\partial W_i}$ : $W_i$ に関する損失 $L$ の勾配\n",
    "\n",
    "\n",
    "$\\frac{\\partial L}{\\partial B_i}$ : $B_i$ に関する損失 $L$ の勾配\n",
    "\n",
    "\n",
    "＊この勾配はミニバッチのサンプル数分の合計または平均を考えます。ここでは合計を計算します。\n",
    "\n",
    "\n",
    "この更新方法はSprint3線形回帰やsprint4ロジスティック回帰における最急降下法と同様です。より効果的な更新方法が知られており、それは次のSprintで扱います。\n",
    "\n",
    "\n",
    "勾配 $\\frac{\\partial L}{\\partial W_i}$ や $\\frac{\\partial L}{\\partial B_i}$ を求めるために、バックプロパゲーションを行います。以下の数式です。ハイパボリックタンジェント関数を使用した例を載せました。シグモイド関数の場合の数式はその後ろにあります。"
   ]
  },
  {
   "cell_type": "markdown",
   "id": "bc4e47e8-16b8-4c3c-8a0d-56577138ec72",
   "metadata": {},
   "source": [
    "## 「3層目」\n",
    "\n",
    "\n",
    "$$\\frac{\\partial L}{\\partial A_3} = \\frac{1}{n_b}(Z_{3} - Y)\\\\ \\frac{\\partial L}{\\partial B_3} = \\sum_{j}^{n_b}\\frac{\\partial L}{\\partial A_{3\\_j}}\\\\ \\frac{\\partial L}{\\partial W_3} = Z_{2}^{T}\\cdot \\frac{\\partial L}{\\partial A_3}\\\\ \\frac{\\partial L}{\\partial Z_2} = \\frac{\\partial L}{\\partial A_3} \\cdot W_3^T$$\n",
    "$\\frac{\\partial L}{\\partial A_3}$ : $A_3$ に関する損失 $L$ の勾配 (batch_size, n_output)\n",
    "\n",
    "\n",
    "$\\frac{\\partial L}{\\partial A_{3_j}}$ : j番目のサンプルの$A_3$ に関する損失 $L$ の勾配 (n_nodes2,)\n",
    "\n",
    "\n",
    "$\\frac{\\partial L}{\\partial B_3}$ : $B_3$ に関する損失 $L$ の勾配 (n_output,)\n",
    "\n",
    "\n",
    "$\\frac{\\partial L}{\\partial W_3}$ : $W_3$ に関する損失 $L$ の勾配 (n_nodes2, n_output)\n",
    "\n",
    "\n",
    "$\\frac{\\partial L}{\\partial Z_2}$ : $Z_2$ に関する損失 $L$ の勾配 (batch_size, n_nodes2)\n",
    "\n",
    "\n",
    "$Z_{3}$ : ソフトマックス関数の出力 (batch_size, n_nodes2)\n",
    "\n",
    "\n",
    "$Y$ : 正解ラベル (batch_size, n_output)\n",
    "\n",
    "\n",
    "$Z_{2}$ : 2層目の活性化関数の出力 (batch_size, n_nodes2)\n",
    "\n",
    "\n",
    "$W_3$ : 3層目の重み (n_nodes2, n_output)\n",
    "\n",
    "\n",
    "$n_{b}$ : バッチサイズ、batch_size"
   ]
  },
  {
   "cell_type": "markdown",
   "id": "7481d91c-b1ad-4fd2-be23-0bc5061944c8",
   "metadata": {
    "jp-MarkdownHeadingCollapsed": true,
    "tags": []
   },
   "source": [
    "## 重みについて\n",
    "そもそもWはいままでのモデルだとインスタンスに関わらず、一定の重みであった。  \n",
    "~しかしながら今回はインスタンス数(ノード数)*特徴量の数を持つ行列である　  \n",
    "ただ、ノードによる値ではあるけどそもそもインスタンスってランダムサンプリングなので結局行方向は同じような値になる気がする~  \n",
    "\n",
    "***インスタンス数 != ノード数***  \n",
    "ノード数は特徴量を圧縮した値  \n",
    "今回で言うと784　→ 400であり、インスタンス数とは無関係の値！！！  \n",
    "W.shape (前回の特徴量の数, 出力したい特徴量の数)になる"
   ]
  },
  {
   "cell_type": "markdown",
   "id": "af1dcaee-7bbe-4d3e-bc0a-0a8e503facd2",
   "metadata": {},
   "source": [
    "## Bは出力したい特徴量毎に用意される値\n",
    "線形回帰の場合バイアス値はスカラーでインスタンスの数に拡張していた。  \n",
    "（バイアスの重みと考えるなら、重みはスカラー値）  \n",
    "diverにはBの次元の指定はないが、ゼロつくだと出力したい特徴量の数毎に用意されている。  \n",
    "(バイアスの値に対して特徴量毎に重みを計算している)  \n",
    "Wで軽減できなかった損失関数を加算によって軽減させるからあったほうがいいのはわかる。  \n",
    "(グラフで言うと分散値は下げれないからセンタリングして原点に近づけている感じ？)  \n",
    "出力したい特徴量毎に用意するべき値。更新大変そうだけどなんとかなるっぽい"
   ]
  },
  {
   "cell_type": "markdown",
   "id": "aee7c4dc-3653-45bf-893e-aa14f4da24ce",
   "metadata": {},
   "source": [
    "## 逆に...\n",
    "なんでdivwr線形回帰とロジスティック回帰はバイアス一つだけだったんだろう...と思ったけど  \n",
    "おそらく目的変数の次元が一次元だったから！！  \n",
    "今回は出力したい特徴量数が多次元なのでその数用意する必要がある。  "
   ]
  },
  {
   "cell_type": "markdown",
   "id": "be2fbcad-637a-4be0-b581-548012f92cad",
   "metadata": {
    "tags": []
   },
   "source": [
    "## n_bで割る必要性\n",
    "n_bで割る必要性がちょっと今のところわからない  \n",
    "ゼロつくにはデータ一個分の誤差（インスタンス毎の誤差）を逆伝播したいと書いてあるが、  \n",
    "~z3 - y1 は行列なのでそもそも一個ずつの計算をしているはずだが....  \n",
    "行方向に足し合わせることは特にしていない(Z3は各インスタンスのソフトマックス関数の出力値)~\n",
    "\n",
    "Z3-y1の値はインスタンス毎ではなく入力の特徴量毎の値になる  \n",
    "Z3.shape(入力特徴量数、出力特徴量数)  \n",
    "また、インスタンス数は内積でインスタンス数をかけているのでインスタンス数で割る"
   ]
  },
  {
   "cell_type": "code",
   "execution_count": 38,
   "id": "54e2efb3-9a10-43f6-8a5a-5a0ec76edee9",
   "metadata": {},
   "outputs": [
    {
     "data": {
      "text/plain": [
       "(20, 10)"
      ]
     },
     "execution_count": 38,
     "metadata": {},
     "output_type": "execute_result"
    }
   ],
   "source": [
    "Z3.shape"
   ]
  },
  {
   "cell_type": "code",
   "execution_count": 39,
   "id": "0a621bdb-8131-4ffa-8ae0-b051457d162e",
   "metadata": {},
   "outputs": [
    {
     "data": {
      "text/plain": [
       "array([[ 0.09515232,  0.09119238,  0.09701054,  0.10726403,  0.09859948,\n",
       "         0.10485162,  0.11284995,  0.09709807,  0.10644279, -0.91046119],\n",
       "       [ 0.09515329,  0.0912036 ,  0.09702615,  0.10726297,  0.09859926,\n",
       "         0.10484653,  0.11282049, -0.90288811,  0.10644244,  0.08953338],\n",
       "       [ 0.09514502,  0.09119397,  0.09701456,  0.10726529,  0.09859642,\n",
       "         0.10485925,  0.11281514, -0.90287632,  0.1064481 ,  0.08953857]])"
      ]
     },
     "execution_count": 39,
     "metadata": {},
     "output_type": "execute_result"
    }
   ],
   "source": [
    "(Z3 - y1)[:3]"
   ]
  },
  {
   "cell_type": "code",
   "execution_count": 40,
   "id": "4b262a68-2329-4982-ad66-4ce044a6d465",
   "metadata": {},
   "outputs": [
    {
     "data": {
      "text/plain": [
       "(200, 10)"
      ]
     },
     "execution_count": 40,
     "metadata": {},
     "output_type": "execute_result"
    }
   ],
   "source": [
    "W3.shape"
   ]
  },
  {
   "cell_type": "code",
   "execution_count": 41,
   "id": "6df4a556-7093-448b-a6a0-4f3496f3254a",
   "metadata": {},
   "outputs": [],
   "source": [
    "dA3 = 1 / n_b * (Z3 - y1)\n",
    "\n",
    "# dbはインスタンスに応じて足される物なので、逆伝播の際はインスタンス方向に足す\n",
    "# そもそもdb3ってなにかに使う値？？？\n",
    "dB3 = dA3.sum(axis=0)\n",
    "\n",
    "dW3 = Z2.T @ dA3\n",
    "\n",
    "dZ2 = dA3 @ W3.T"
   ]
  },
  {
   "cell_type": "markdown",
   "id": "610978d2-31d9-4c20-902d-bb54c2942bee",
   "metadata": {},
   "source": [
    "## 「2層目」\n",
    "$\\frac{\\partial L}{\\partial A_2}$ : $A_2$ に関する損失 $L$ の勾配 (batch_size, n_nodes2)\n",
    "\n",
    "\n",
    "$\\frac{\\partial L}{\\partial A_{2_j}}$ : j番目のサンプルの$A_2$ に関する損失 $L$ の勾配 (n_nodes2,)\n",
    "\n",
    "\n",
    "$\\frac{\\partial L}{\\partial B_2}$ : $B_2$ に関する損失 $L$ の勾配 (n_nodes2,)\n",
    "\n",
    "\n",
    "$\\frac{\\partial L}{\\partial W_2}$ : $W_2$ に関する損失 $L$ の勾配 (n_nodes1, n_nodes2)\n",
    "\n",
    "\n",
    "$\\frac{\\partial L}{\\partial Z_2}$ : $Z_2$ に関する損失 $L$ の勾配 (batch_size, n_nodes2)\n",
    "\n",
    "\n",
    "$A_2$ : 2層目の出力 (batch_size, n_nodes2)\n",
    "\n",
    "\n",
    "$Z_{1}$ : 1層目の活性化関数の出力 (batch_size, n_nodes1)\n",
    "\n",
    "\n",
    "$W_2$ : 2層目の重み (n_nodes1, n_nodes2)\n",
    "\n",
    "$$\\frac{\\partial L}{\\partial A_2} = \\frac{\\partial L}{\\partial Z_2} \\odot  \\{1-sigmoid(A_{2})\\}\\odot sigmoid(A_{2})\\\\\n",
    "\\frac{\\partial L}{\\partial B_2} = \\sum_{j}^{n_b}\\frac{\\partial L}{\\partial A_{2\\_j}}\\\\\n",
    "\\frac{\\partial L}{\\partial W_2} = Z_{1}^T \\cdot \\frac{\\partial L}{\\partial A_2}\\\\\n",
    "\\frac{\\partial L}{\\partial Z_1} = \\frac{\\partial L}{\\partial A_2} \\cdot W_2^T$$"
   ]
  },
  {
   "cell_type": "code",
   "execution_count": 42,
   "id": "d08d6fdc-0354-43a7-b39f-817b67201d9a",
   "metadata": {},
   "outputs": [
    {
     "data": {
      "text/plain": [
       "(20, 200)"
      ]
     },
     "execution_count": 42,
     "metadata": {},
     "output_type": "execute_result"
    }
   ],
   "source": [
    "(dZ2 * (1-dZ2)).shape"
   ]
  },
  {
   "cell_type": "code",
   "execution_count": 43,
   "id": "2acfd039-fd95-413a-b488-551e487d4e37",
   "metadata": {},
   "outputs": [],
   "source": [
    "dA2 = dZ2 * (Z2 * (1-Z2))\n",
    "dB2 = dA2.sum(axis=0)\n",
    "dW2 = Z1.T @ dA2\n",
    "dZ1 = dA2 @ W2.T"
   ]
  },
  {
   "cell_type": "code",
   "execution_count": 44,
   "id": "f174e170-da3c-4c08-93cb-83e0255e7ffc",
   "metadata": {},
   "outputs": [
    {
     "data": {
      "text/plain": [
       "array([[-1.58882461e-04,  1.12309426e-04, -7.22393895e-05, ...,\n",
       "         3.00696916e-05,  8.55129583e-05, -1.32162347e-04],\n",
       "       [ 3.71872423e-05, -5.56072702e-05,  3.50969031e-05, ...,\n",
       "         1.69959714e-04, -1.87543542e-05,  3.35230105e-05],\n",
       "       [ 3.71908820e-05, -5.57351409e-05,  3.51102744e-05, ...,\n",
       "         1.69593076e-04, -1.87534403e-05,  3.35023300e-05],\n",
       "       ...,\n",
       "       [ 3.72066390e-05, -5.56675205e-05,  3.50126879e-05, ...,\n",
       "         1.69206822e-04, -1.87146227e-05,  3.34562232e-05],\n",
       "       [ 1.22598158e-04,  9.31424637e-05,  1.02253167e-04, ...,\n",
       "        -7.27782467e-05,  1.38350219e-04,  8.51098745e-05],\n",
       "       [ 1.57226224e-05,  8.03845443e-05,  1.14218466e-04, ...,\n",
       "        -1.09979284e-04, -1.07430135e-05, -4.44906882e-05]])"
      ]
     },
     "execution_count": 44,
     "metadata": {},
     "output_type": "execute_result"
    }
   ],
   "source": [
    "dA2"
   ]
  },
  {
   "cell_type": "markdown",
   "id": "3c48dffd-6aef-4d06-bc64-9a5c9f0ed2a9",
   "metadata": {},
   "source": [
    "## 「1層目」\n",
    "\n",
    "$$\\frac{\\partial L}{\\partial A_1} = \\frac{\\partial L}{\\partial Z_1} \\odot  \\{1-sigmoid(A_{1})\\}\\odot sigmoid(A_{1})\\\\\n",
    "\\frac{\\partial L}{\\partial B_1} = \\sum_{j}^{n_b}\\frac{\\partial L}{\\partial A_{1\\_j}}\\\\\n",
    "\\frac{\\partial L}{\\partial W_1} = X^T \\cdot \\frac{\\partial L}{\\partial A_1}\\\\\n",
    "$$\n",
    "\n",
    "$\\frac{\\partial L}{\\partial A_1}$ : $A_1$ に関する損失 $L$ の勾配 (batch_size, n_nodes1)\n",
    "\n",
    "\n",
    "$\\frac{\\partial L}{\\partial A_{1_j}}$ : j番目のサンプルの$A_1$ に関する損失 $L$ の勾配 (n_nodes1,)\n",
    "\n",
    "\n",
    "$\\frac{\\partial L}{\\partial B_1}$ : $B_1$ に関する損失 $L$ の勾配 (n_nodes1,)\n",
    "\n",
    "\n",
    "$\\frac{\\partial L}{\\partial W_1}$ : $W_1$ に関する損失 $L$ の勾配 (n_features, n_nodes1)\n",
    "\n",
    "\n",
    "$\\frac{\\partial L}{\\partial Z_1}$ : $Z_1$ に関する損失 $L$ の勾配 (batch_size, n_nodes1)\n",
    "\n",
    "\n",
    "$A_1$ : 1層目の出力 (batch_size, n_nodes1)\n",
    "\n",
    "\n",
    "$X$ : 特徴量ベクトル (batch_size, n_features)\n",
    "\n",
    "\n",
    "$W_1$ : 1層目の重み (n_features, n_nodes1)"
   ]
  },
  {
   "cell_type": "code",
   "execution_count": 45,
   "id": "0dea2ad4-70af-4c98-a285-26808cf43a95",
   "metadata": {},
   "outputs": [],
   "source": [
    "dA1 = dZ1 @ (Z1.T @ (1-Z1))\n",
    "dB1 = dA1.sum(axis=0)\n",
    "dW1 = X1.T @ dA1"
   ]
  },
  {
   "cell_type": "markdown",
   "id": "7fdb08ab-7c09-4aac-bae5-79d97e435dcc",
   "metadata": {},
   "source": [
    "# 【問題5】推定\n",
    "推定を行うメソッドを作成してください。\n",
    "\n",
    "\n",
    "フォワードプロパゲーションによって出力された10個の確率の中で、最も高いものはどれかを判定します。"
   ]
  },
  {
   "cell_type": "code",
   "execution_count": 55,
   "id": "c52fc565-aae8-4195-8e81-a912b0fa74c8",
   "metadata": {},
   "outputs": [],
   "source": [
    "class ScratchSimpleNeuralNetrowkClassifier():\n",
    "    \"\"\"\n",
    "    シンプルな三層ニューラルネットワーク分類器\n",
    "    Parameters\n",
    "    ----------\n",
    "    Attributes\n",
    "    ----------\n",
    "    \"\"\"\n",
    "    def __init__(self, n_nodes1, n_nodes2, eta=0.01, epoch=10, verbose = True):\n",
    "        self.n_nodes1 = n_nodes1\n",
    "        self.n_nodes2 = n_nodes2\n",
    "        self.eta = eta\n",
    "        self.epoch = epoch\n",
    "        self.verbose = verbose\n",
    "        self.loss_train = np.zeros(epoch)\n",
    "        self.loss_val = np.zeros(epoch)\n",
    "    \n",
    "    \n",
    "    def get_param(self, X, y, sigma):\n",
    "        \n",
    "        self.w1 = sigma * np.random.randn(X.shape[1], self.n_nodes1)\n",
    "        self.w2 = sigma * np.random.randn(self.n_nodes1, self.n_nodes2)\n",
    "        self.w3 = sigma * np.random.randn(self.n_nodes2, y.shape[1])\n",
    "        \n",
    "        self.b1 = np.zeros(self.n_nodes1) \n",
    "        self.b2 = np.zeros(self.n_nodes2) \n",
    "        self.b3 = np.zeros(y.shape[1])\n",
    "        \n",
    "        \n",
    "    def get_loss(self, X, y_ture):\n",
    "        \"\"\"\n",
    "        クロスエントロピー誤差を計算\n",
    "        log(X)が最大値0の値を取るため-をかける必要がある。\n",
    "        全て正解の場合0を取る。\n",
    "\n",
    "        param\n",
    "        -------------------\n",
    "        X : 次の形のndarray(batch_size, n_features)\n",
    "        入力値\n",
    "        y_ture : 次の形のndarray(batch_size, n_class)\n",
    "        正解ラベル\n",
    "\n",
    "        return\n",
    "        --------------------\n",
    "        L : float(スカラー)\n",
    "        \"\"\"\n",
    "\n",
    "        h = 1e-7      \n",
    "        L = - np.sum(y_ture * np.log(X + h) / len(y_ture))\n",
    "        return L\n",
    "        \n",
    "        \n",
    "    def sigmoid(self, X):\n",
    "        \"\"\"\n",
    "        sigmoid関数\n",
    "        \"\"\"\n",
    "        return 1 / (1 + np.exp(-X))\n",
    "    \n",
    "    \n",
    "    def tanh(self, X):\n",
    "        \"\"\"\n",
    "        tanh関数\n",
    "        \"\"\"\n",
    "        return np.tanh(X)\n",
    "    \n",
    "    \n",
    "    def softmax(self, X):\n",
    "        \"\"\"\n",
    "        softmax関数\n",
    "        \"\"\"\n",
    "        return np.exp(X) / np.exp(X).sum(axis=1).reshape(-1, 1)\n",
    "    \n",
    "    \n",
    "    def forward(self, X):\n",
    "        \"\"\"\n",
    "        順伝播\n",
    "        \n",
    "        param\n",
    "        ----------------\n",
    "        X : 次の形のndarray, shape (bachi_size, n_features)\n",
    "            訓練データの特徴量\n",
    "            \n",
    "        return\n",
    "        -----------------\n",
    "        loss : float\n",
    "        クロスエントロピー誤差\n",
    "        \"\"\"\n",
    "        \n",
    "        # 1層目\n",
    "        self.A1 = X @ self.w1 + self.b1\n",
    "        self.Z1 = self.sigmoid(self.A1)\n",
    "        \n",
    "        # 2層目\n",
    "        self.A2 = self.Z1 @ self.w2 + self.b2\n",
    "        self.Z2 = self.sigmoid(self.A2)\n",
    "        \n",
    "        # 3層目\n",
    "        self.A3 = self.Z2 @ self.w3 + self.b3\n",
    "        self.Z3 = self.softmax(self.A3)\n",
    "    \n",
    "    \n",
    "    def backward(self, X, y):\n",
    "        \"\"\"\n",
    "        逆伝播\n",
    "        \n",
    "        param\n",
    "        ------------------\n",
    "        X : 次の形のndarray, shape (bachi_size, n_features)\n",
    "            訓練データの特徴量\n",
    "        y : 次の形のndarray, shape (bachi_size, )\n",
    "            訓練データの正解値\n",
    "        \"\"\"\n",
    "        \n",
    "        #3層目\n",
    "        dA3 = 1 / X.shape[0] * (self.Z3 - y)\n",
    "        self.db3 = dA3.sum(axis=0)\n",
    "        self.dw3 = self.Z2.T @ dA3\n",
    "        dZ2 = dA3 @ self.w3.T\n",
    "        \n",
    "        #2層目\n",
    "        dA2 = dZ2 * (self.Z2 * (1 - self.Z2))        \n",
    "        self.db2 = dA2.sum(axis=0)\n",
    "        self.dw2 = self.Z1.T @ dA2\n",
    "        dZ1 = dA2 @ self.w2.T\n",
    "        \n",
    "        #1層目\n",
    "        dA1 = dZ1 * (self.Z1 * (1 - self.Z1))\n",
    "        self.db1 = dA1.sum(axis=0)\n",
    "        self.dw1 = X.T @ dA1\n",
    "        \n",
    "        \n",
    "    def update_param(self):\n",
    "        \n",
    "        self.w1 = self.w1 - (self.eta * self.dw1)\n",
    "        self.w2 = self.w2 - (self.eta * self.dw2)\n",
    "        self.w3 = self.w3 - (self.eta * self.dw3)\n",
    "        \n",
    "        self.b1 = self.b1 - (self.eta * self.db1)\n",
    "        self.b2 = self.b2 - (self.eta * self.db2)\n",
    "        self.b3 = self.b3 - (self.eta * self.db3)\n",
    "        \n",
    "        \n",
    "    def fit(self, X, y, sigma=0.1, X_val=None, y_val=None):\n",
    "        \"\"\"\n",
    "        ニューラルネットワーク分類器を学習する。\n",
    "        Parameters\n",
    "        ----------\n",
    "        X : 次の形のndarray, shape (bachi_size, n_features)\n",
    "            訓練データの特徴量\n",
    "        y : 次の形のndarray, shape (bachi_size, )\n",
    "            訓練データの正解値\n",
    "        X_val : 次の形のndarray, shape (n_samples, n_features)\n",
    "            検証データの特徴量\n",
    "        y_val : 次の形のndarray, shape (n_samples, )\n",
    "            検証データの正解値\n",
    "        \"\"\"\n",
    "        \n",
    "        # 重みとバイアスの初期値を決定する\n",
    "        self.get_param(X, y, sigma)\n",
    "        \n",
    "        # エポック毎に更新\n",
    "        for i in range(self.epoch):\n",
    "            \n",
    "            # バッチ処理を実行\n",
    "            get_mini_batch = GetMiniBatch(X, y, batch_size=20)\n",
    "\n",
    "            # バッチでループ\n",
    "            for mini_X_train, mini_y_train in get_mini_batch:\n",
    "\n",
    "                # 順伝播\n",
    "                self.forward(mini_X_train)\n",
    "\n",
    "                # 逆伝播\n",
    "                self.backward(mini_X_train, mini_y_train)\n",
    "\n",
    "                # パラメータ更新\n",
    "                self.update_param()\n",
    "\n",
    "            # lossの代入\n",
    "            self.forward(X)\n",
    "            self.loss_train[i] = self.get_loss(self.Z3, y)\n",
    "            \n",
    "            #verboseをTrueにした際は学習過程などを出力する\n",
    "            if self.verbose:\n",
    "                print('loss : {}'.format(self.get_loss(self.Z3, y)))\n",
    "        \n",
    "            # 検証データ\n",
    "            if X_val is not None:\n",
    "                self.forward(X_val)\n",
    "                self.loss_val[i] = self.get_loss(self.Z3, y_val)        \n",
    "                      \n",
    "            \n",
    "        \n",
    "    def predict(self, X):\n",
    "        \"\"\"\n",
    "        ニューラルネットワーク分類器を使い推定する。\n",
    "        Parameters\n",
    "        ----------\n",
    "        X : 次の形のndarray, shape (n_samples, n_features)\n",
    "            サンプル\n",
    "        Returns\n",
    "        -------\n",
    "            次の形のndarray, shape (n_samples, 1)\n",
    "            推定結果\n",
    "        \"\"\"\n",
    "        self.forward(X)\n",
    "        # 最も大きいインデックスをクラスとして採用\n",
    "        return np.argmax(self.Z3, axis=1)"
   ]
  },
  {
   "cell_type": "code",
   "execution_count": 56,
   "id": "7c6601dd-3dfa-47fa-a52a-291c65b612ad",
   "metadata": {},
   "outputs": [],
   "source": [
    "test = ScratchSimpleNeuralNetrowkClassifier(n_nodes1=400, n_nodes2=200, verbose=False)\n",
    "test.fit(X_train[:10000], y_train_one_hot[:10000], X_val=X_val, y_val=y_val_one_hot)"
   ]
  },
  {
   "cell_type": "markdown",
   "id": "2cb3f106-93d7-4288-9901-c4bac2d0ff47",
   "metadata": {},
   "source": [
    "# 【問題6】学習と推定\n",
    "MNISTのデータを学習・推定し、Accuracyを計算してください。"
   ]
  },
  {
   "cell_type": "code",
   "execution_count": 57,
   "id": "bece601a-d0a8-49ac-99f8-cbca80f49bf6",
   "metadata": {},
   "outputs": [
    {
     "data": {
      "text/plain": [
       "array([2.04593316, 1.72928066, 1.39839706, 1.13017973, 0.9401995 ,\n",
       "       0.80863803, 0.71511223, 0.64620772, 0.59375077, 0.55267308])"
      ]
     },
     "execution_count": 57,
     "metadata": {},
     "output_type": "execute_result"
    }
   ],
   "source": [
    "test.loss_train"
   ]
  },
  {
   "cell_type": "code",
   "execution_count": 58,
   "id": "8ddc2719-5d3b-4789-a874-dd4d47e05ba9",
   "metadata": {},
   "outputs": [
    {
     "data": {
      "text/plain": [
       "array([2.04518729, 1.73007713, 1.40199921, 1.13720467, 0.95036664,\n",
       "       0.82153493, 0.73043191, 0.66371832, 0.61325711, 0.57400296])"
      ]
     },
     "execution_count": 58,
     "metadata": {},
     "output_type": "execute_result"
    }
   ],
   "source": [
    "test.loss_val"
   ]
  },
  {
   "cell_type": "code",
   "execution_count": 62,
   "id": "cd22636e-8b53-4084-a6bf-e01fe572c466",
   "metadata": {},
   "outputs": [
    {
     "data": {
      "text/plain": [
       "0.8628"
      ]
     },
     "execution_count": 62,
     "metadata": {},
     "output_type": "execute_result"
    }
   ],
   "source": [
    "from sklearn.metrics import accuracy_score\n",
    "accuracy_score(y_test, test.predict(X_test))"
   ]
  },
  {
   "cell_type": "markdown",
   "id": "5630da23-45eb-4100-8978-5091f3248066",
   "metadata": {},
   "source": [
    "# 【問題7】学習曲線のプロット\n",
    "学習曲線をプロットしてください。\n",
    "\n",
    "\n",
    "ニューラルネットワークは過学習が発生しやすいため、学習曲線の確認が重要です。訓練データと検証データに対するエポックごとの損失（交差エントロピー誤差）を記録できるようにする必要があります。"
   ]
  },
  {
   "cell_type": "code",
   "execution_count": 68,
   "id": "f3de1b93-684a-4383-bb76-8c115417b58f",
   "metadata": {},
   "outputs": [],
   "source": [
    "test = ScratchSimpleNeuralNetrowkClassifier(n_nodes1=400, n_nodes2=200, eta=0.1, epoch=50, verbose=False)\n",
    "test.fit(X_train, y_train_one_hot, X_val=X_val, y_val=y_val_one_hot)"
   ]
  },
  {
   "cell_type": "code",
   "execution_count": 72,
   "id": "5dedbb60-5241-48df-ab58-0d904e67571d",
   "metadata": {},
   "outputs": [],
   "source": [
    "import matplotlib.pyplot as plt\n",
    "def draw_graph_and_accuracy(model):\n",
    "    print(accuracy_score(y_test, model.predict(X_test)))\n",
    "    plt.plot(np.arange(model.epoch), model.loss_train, label='train')\n",
    "    plt.plot(np.arange(model.epoch), model.loss_val, label='val')\n",
    "    plt.title('learning curve')\n",
    "    plt.xlabel('epoch')\n",
    "    plt.ylabel('loss')"
   ]
  },
  {
   "cell_type": "code",
   "execution_count": 73,
   "id": "96c30293-cdce-4270-9731-a4155aa9a5d6",
   "metadata": {},
   "outputs": [
    {
     "name": "stdout",
     "output_type": "stream",
     "text": [
      "0.9791\n"
     ]
    },
    {
     "data": {
      "image/png": "[encoded data removed]",
      "text/plain": [
       "<Figure size 432x288 with 1 Axes>"
      ]
     },
     "metadata": {
      "needs_background": "light"
     },
     "output_type": "display_data"
    }
   ],
   "source": [
    "draw_graph_and_accuracy(test)"
   ]
  },
  {
   "cell_type": "markdown",
   "id": "67dbca8a-1a55-4edb-b54a-5c9553f3377b",
   "metadata": {},
   "source": [
    "# 【問題8】（アドバンス課題）誤分類の確認\n",
    "誤分類した画像はどのようなものだったかを確認してください。推定値を用意し、以下のコードを実行してください。"
   ]
  },
  {
   "cell_type": "code",
   "execution_count": 95,
   "id": "7ae84a1d-8605-4b61-9d07-b86e6943175e",
   "metadata": {},
   "outputs": [],
   "source": [
    "y_train_2, y_val = train_test_split(y_train, test_size=0.2, random_state=0)"
   ]
  },
  {
   "cell_type": "code",
   "execution_count": 144,
   "id": "5d876599-66f8-421a-b00d-5ea028fdbac3",
   "metadata": {},
   "outputs": [
    {
     "data": {
      "image/png": "[encoded data removed]",
      "text/plain": [
       "<Figure size 432x432 with 36 Axes>"
      ]
     },
     "metadata": {},
     "output_type": "display_data"
    }
   ],
   "source": [
    "\"\"\"\n",
    "語分類結果を並べて表示する。画像の上の表示は「推定結果/正解」である。\n",
    "Parameters:\n",
    "----------\n",
    "y_pred : 推定値のndarray (n_samples,)\n",
    "y_val : 検証データの正解ラベル(n_samples,)\n",
    "X_val : 検証データの特徴量（n_samples, n_features)\n",
    "\"\"\"\n",
    "import numpy as np\n",
    "import matplotlib.pyplot as plt\n",
    "num = 36 # いくつ表示するか\n",
    "\n",
    "true_false = test.predict(X_val)==y_val\n",
    "false_list = np.where(true_false==False)[0].astype(int)\n",
    "if false_list.shape[0] < num:\n",
    "    num = false_list.shape[0]\n",
    "fig = plt.figure(figsize=(6, 6))\n",
    "fig.subplots_adjust(hspace=1, wspace=0.5)\n",
    "for i in range(num):\n",
    "    ax = fig.add_subplot(6, 6, i + 1, xticks=[], yticks=[])\n",
    "    ax.set_title(\"{} / {}\".format(test.predict(X_val)[false_list[i]],y_val[false_list[i]]))\n",
    "    ax.imshow(X_val.reshape(-1,28,28)[false_list[i]], cmap='gray')"
   ]
  },
  {
   "cell_type": "code",
   "execution_count": 140,
   "id": "1afc8abe-00e3-4f8b-9971-815b0cc4429e",
   "metadata": {},
   "outputs": [
    {
     "data": {
      "text/plain": [
       "(array([   47,   302,   326,   430,   867,   881,  1124,  1217,  1446,\n",
       "         1647,  1870,  2316,  2633,  2782,  2975,  3296,  3398,  3450,\n",
       "         3554,  3792,  3882,  4294,  4422,  4440,  4485,  4664,  4820,\n",
       "         4897,  5431,  5461,  5526,  5689,  5881,  6002,  6068,  6203,\n",
       "         6314,  6668,  6692,  6706,  6805,  6873,  6945,  7121,  7447,\n",
       "         7895,  8312,  8358,  8395,  8543,  8567,  8735,  8852,  9118,\n",
       "         9121,  9378,  9932, 10130, 10205, 10231, 10404, 10797, 10846,\n",
       "        11071, 11233, 11347, 11354, 11436, 11457, 11923]),)"
      ]
     },
     "execution_count": 140,
     "metadata": {},
     "output_type": "execute_result"
    }
   ],
   "source": [
    "np.where(true_false==False)"
   ]
  },
  {
   "cell_type": "code",
   "execution_count": null,
   "id": "e758b26b-200d-4f03-918a-365b2ed5a3fc",
   "metadata": {},
   "outputs": [],
   "source": []
  }
 ],
 "metadata": {
  "kernelspec": {
   "display_name": "Python 3",
   "language": "python",
   "name": "python3"
  },
  "language_info": {
   "codemirror_mode": {
    "name": "ipython",
    "version": 3
   },
   "file_extension": ".py",
   "mimetype": "text/x-python",
   "name": "python",
   "nbconvert_exporter": "python",
   "pygments_lexer": "ipython3",
   "version": "3.8.11"
  }
 },
 "nbformat": 4,
 "nbformat_minor": 5
}
